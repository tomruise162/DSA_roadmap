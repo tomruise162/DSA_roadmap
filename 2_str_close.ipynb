{
 "cells": [
  {
   "cell_type": "code",
   "execution_count": 38,
   "metadata": {},
   "outputs": [],
   "source": [
    "class Solution(object):\n",
    "    def closeStrings(self, word1, word2):\n",
    "        \"\"\"\n",
    "        :type word1: str\n",
    "        :type word2: str\n",
    "        :rtype: bool\n",
    "        \"\"\"\n",
    "        if len(word1) != len(word2):\n",
    "            return False\n",
    "        else:\n",
    "            dic1 = {}\n",
    "            dic2 = {}\n",
    "\n",
    "            for i in word1:\n",
    "                if i not in dic1:\n",
    "                    dic1[i] = 1\n",
    "                else:\n",
    "                    dic1[i] += 1\n",
    "        \n",
    "            for i in word2:\n",
    "                if i not in dic2:\n",
    "                    dic2[i] = 1\n",
    "                else:\n",
    "                    dic2[i] += 1\n",
    "            \n",
    "            if set(dic1.keys()) == set(dic2.keys()) and sorted(dic1.values()) == sorted(dic2.values()):\n",
    "                return True\n",
    "            else:\n",
    "                return False\n",
    "            \n",
    "            "
   ]
  },
  {
   "cell_type": "code",
   "execution_count": 39,
   "metadata": {},
   "outputs": [
    {
     "data": {
      "text/plain": [
       "False"
      ]
     },
     "execution_count": 39,
     "metadata": {},
     "output_type": "execute_result"
    }
   ],
   "source": [
    "word1 = \"aaabbbbccddeeeeefffff\"\n",
    "word2 = \"aaaaabbcccdddeeeeffff\"\n",
    "solution = Solution()\n",
    "solution.closeStrings(word1, word2)"
   ]
  },
  {
   "cell_type": "code",
   "execution_count": null,
   "metadata": {},
   "outputs": [],
   "source": []
  }
 ],
 "metadata": {
  "kernelspec": {
   "display_name": "Python 3",
   "language": "python",
   "name": "python3"
  },
  "language_info": {
   "codemirror_mode": {
    "name": "ipython",
    "version": 3
   },
   "file_extension": ".py",
   "mimetype": "text/x-python",
   "name": "python",
   "nbconvert_exporter": "python",
   "pygments_lexer": "ipython3",
   "version": "3.11.5"
  }
 },
 "nbformat": 4,
 "nbformat_minor": 2
}
