{
 "cells": [
  {
   "cell_type": "code",
   "execution_count": 15,
   "metadata": {},
   "outputs": [],
   "source": [
    "# Định nghĩa danh sách liên kết\n",
    "class ListNode(object):\n",
    "    def __init__(self, val=0, next=None):\n",
    "        self.val = val\n",
    "        self.next = next\n",
    "\n",
    "class Solution(object):\n",
    "    def deleteMiddle(self, head):\n",
    "        if not head or not head.next:  # Nếu danh sách chỉ có 1 phần tử\n",
    "            return None  \n",
    "\n",
    "        slow, fast = head, head\n",
    "        prev = None  \n",
    "\n",
    "        while fast and fast.next:\n",
    "            prev = slow\n",
    "            slow = slow.next\n",
    "            fast = fast.next.next\n",
    "        \n",
    "        prev.next = slow.next  # Xóa node giữa\n",
    "        return head\n",
    "\n",
    "# Hàm tạo danh sách liên kết từ danh sách Python\n",
    "def create_linked_list(lst):\n",
    "    if not lst:\n",
    "        return None\n",
    "    head = ListNode(lst[0])\n",
    "    current = head\n",
    "    for i in lst:\n",
    "        current.next = ListNode(i)\n",
    "        current = current.next\n",
    "    return head\n",
    "        \n",
    "# Hàm in danh sách liên kết\n",
    "def print_linked_list(head):\n",
    "    result = []\n",
    "    while head:\n",
    "        result.append(head.val)\n",
    "        head = head.next\n",
    "    print(\" → \".join(map(str, result)))"
   ]
  },
  {
   "cell_type": "code",
   "execution_count": 16,
   "metadata": {},
   "outputs": [
    {
     "name": "stdout",
     "output_type": "stream",
     "text": [
      "Danh sách ban đầu:\n",
      "1 → 1 → 3 → 4 → 7 → 1 → 2 → 6 → 6 → 5 → 2\n",
      "Danh sách sau khi xóa phần tử giữa:\n",
      "1 → 1 → 3 → 4 → 7 → 2 → 6 → 6 → 5 → 2\n"
     ]
    }
   ],
   "source": [
    "# Khởi tạo danh sách liên kết\n",
    "head = create_linked_list([1, 3, 4, 7, 1, 2, 6, 6, 5, 2])\n",
    "\n",
    "print(\"Danh sách ban đầu:\")\n",
    "print_linked_list(head)\n",
    "\n",
    "# Gọi hàm deleteMiddle\n",
    "solution = Solution()\n",
    "head = solution.deleteMiddle(head)\n",
    "\n",
    "print(\"Danh sách sau khi xóa phần tử giữa:\")\n",
    "print_linked_list(head)\n"
   ]
  }
 ],
 "metadata": {
  "kernelspec": {
   "display_name": "kurama",
   "language": "python",
   "name": "python3"
  },
  "language_info": {
   "codemirror_mode": {
    "name": "ipython",
    "version": 3
   },
   "file_extension": ".py",
   "mimetype": "text/x-python",
   "name": "python",
   "nbconvert_exporter": "python",
   "pygments_lexer": "ipython3",
   "version": "3.10.16"
  }
 },
 "nbformat": 4,
 "nbformat_minor": 2
}
