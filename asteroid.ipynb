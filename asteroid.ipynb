{
 "cells": [
  {
   "cell_type": "code",
   "execution_count": 1,
   "metadata": {},
   "outputs": [],
   "source": [
    "class Solution(object):\n",
    "    def asteroidCollision(self, asteroids):\n",
    "        \"\"\"\n",
    "        :type asteroids: List[int]\n",
    "        :rtype: List[int]\n",
    "        \"\"\"\n",
    "        stack = []\n",
    "        for i in reversed(asteroids):\n",
    "            if len(stack) == 0:\n",
    "                stack.append(i)\n",
    "            else:\n",
    "                if stack[-1] > 0 and i > 0:\n",
    "                    stack.append(i)\n",
    "                elif stack[-1] < 0 and i < 0:\n",
    "                    stack.append(i)\n",
    "                elif stack[-1] > 0 and i < 0:\n",
    "                    if abs(stack[-1]) == abs(i):\n",
    "                        stack.pop()\n",
    "                    elif abs(stack[-1]) > abs(i):\n",
    "                        pass\n",
    "                    elif abs(stack[-1]) < abs(i):\n",
    "                        del stack[-1]\n",
    "                        stack.append(i)\n",
    "                elif stack[-1] < 0 and i > 0:\n",
    "                    if abs(stack[-1]) == abs(i):\n",
    "                        stack.pop()\n",
    "                    elif abs(stack[-1]) < abs(i):\n",
    "                        del stack[-1]\n",
    "                        stack.append(i)\n",
    "                    elif abs(stack[-1]) > abs(i):\n",
    "                        pass\n",
    "        return stack\n",
    "            "
   ]
  },
  {
   "cell_type": "code",
   "execution_count": 2,
   "metadata": {},
   "outputs": [],
   "source": [
    "class Solution(object):\n",
    "    def asteroidCollision(self, asteroids):\n",
    "        \"\"\"\n",
    "        :type asteroids: List[int]\n",
    "        :rtype: List[int]\n",
    "        \"\"\"\n",
    "        stack = []\n",
    "\n",
    "        for asteroid in asteroids:\n",
    "            #Khi xet 2 thien thach trai dau:\n",
    "            #Thien thach da duoc luu trong stack di sang phai, \n",
    "            #va thien thach moi di sang trai thi moi va nhau\n",
    "            #Vong while dung de xet dieu kien co ton tai thien thach trong stack\n",
    "            #va 2 thien thach co dau hieu va vao nhau hay khong\n",
    "            while stack and asteroid < 0 < stack[-1]:\n",
    "                if stack[-1] < -asteroid:\n",
    "                    stack.pop()\n",
    "                    #Cho continue nay rat thong minh: no cho phep tiep tuc \n",
    "                    # vong while de xet cac thien thach phia sau\n",
    "                    continue\n",
    "                elif stack[-1] == -asteroid:\n",
    "                    stack.pop()\n",
    "                #Gia su thang thien thach moi vao khong lon hon thien thach trong stack:\n",
    "                #Thi xet TH == va TH lon hon:\n",
    "                #Neu do lon bang nhau thi 2 thien thach bien mat --> pop thang stack[-1]\n",
    "                #Sau do break vong while vi da xu ly xong thang thien thach hien tai, xet den thang tiep theo\n",
    "                #Neu thien thach trong stack > thien thach input --> break vong while vi thien thach input\n",
    "                #se bi triet tieu do co do lon be hon\n",
    "                break\n",
    "            else:\n",
    "                stack.append(asteroid)\n",
    "        return stack"
   ]
  },
  {
   "cell_type": "code",
   "execution_count": 5,
   "metadata": {},
   "outputs": [
    {
     "data": {
      "text/plain": [
       "[5, 10]"
      ]
     },
     "execution_count": 5,
     "metadata": {},
     "output_type": "execute_result"
    }
   ],
   "source": [
    "asteroids = [5,10,-5]\n",
    "solution = Solution()\n",
    "solution.asteroidCollision(asteroids)"
   ]
  },
  {
   "cell_type": "code",
   "execution_count": 6,
   "metadata": {},
   "outputs": [
    {
     "data": {
      "text/plain": [
       "[]"
      ]
     },
     "execution_count": 6,
     "metadata": {},
     "output_type": "execute_result"
    }
   ],
   "source": [
    "asteroids = [5,-5]\n",
    "solution = Solution()\n",
    "solution.asteroidCollision(asteroids)"
   ]
  },
  {
   "cell_type": "code",
   "execution_count": null,
   "metadata": {},
   "outputs": [],
   "source": []
  }
 ],
 "metadata": {
  "kernelspec": {
   "display_name": "Python 3",
   "language": "python",
   "name": "python3"
  },
  "language_info": {
   "codemirror_mode": {
    "name": "ipython",
    "version": 3
   },
   "file_extension": ".py",
   "mimetype": "text/x-python",
   "name": "python",
   "nbconvert_exporter": "python",
   "pygments_lexer": "ipython3",
   "version": "3.11.5"
  }
 },
 "nbformat": 4,
 "nbformat_minor": 2
}
