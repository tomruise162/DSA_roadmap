{
 "cells": [
  {
   "cell_type": "code",
   "execution_count": 7,
   "metadata": {},
   "outputs": [],
   "source": [
    "class Solution(object):\n",
    "    def gcdOfStrings(self, str1, str2):\n",
    "        \"\"\"\n",
    "        :type str1: str\n",
    "        :type str2: str\n",
    "        :rtype: str\n",
    "        \"\"\"\n",
    "        if str1 + str2 != str2 + str1:  # Kiểm tra xem hai chuỗi có thể tạo ra nhau không\n",
    "            return \"\"\n",
    "        if str1 == str2:\n",
    "            return str1\n",
    "        while str1 != str2:\n",
    "            if len(str1) > len(str2):\n",
    "                str1 = str1[len(str2):len(str1)]\n",
    "            elif len(str1) < len(str2):\n",
    "                str2 = str2[len(str1):len(str2)]\n",
    "        return str1"
   ]
  },
  {
   "cell_type": "code",
   "execution_count": 8,
   "metadata": {},
   "outputs": [
    {
     "data": {
      "text/plain": [
       "''"
      ]
     },
     "execution_count": 8,
     "metadata": {},
     "output_type": "execute_result"
    }
   ],
   "source": [
    "str1 = \"LEET\"\n",
    "str2 = \"CODE\"\n",
    "solution = Solution()\n",
    "solution.gcdOfStrings(str1, str2)"
   ]
  },
  {
   "cell_type": "code",
   "execution_count": 9,
   "metadata": {},
   "outputs": [
    {
     "data": {
      "text/plain": [
       "'AB'"
      ]
     },
     "execution_count": 9,
     "metadata": {},
     "output_type": "execute_result"
    }
   ],
   "source": [
    "str1 = \"ABABAB\"\n",
    "str2 = \"ABAB\"\n",
    "solution = Solution()\n",
    "solution.gcdOfStrings(str1, str2)"
   ]
  },
  {
   "cell_type": "code",
   "execution_count": null,
   "metadata": {},
   "outputs": [],
   "source": []
  }
 ],
 "metadata": {
  "kernelspec": {
   "display_name": "kurama",
   "language": "python",
   "name": "python3"
  },
  "language_info": {
   "codemirror_mode": {
    "name": "ipython",
    "version": 3
   },
   "file_extension": ".py",
   "mimetype": "text/x-python",
   "name": "python",
   "nbconvert_exporter": "python",
   "pygments_lexer": "ipython3",
   "version": "3.10.13"
  }
 },
 "nbformat": 4,
 "nbformat_minor": 2
}
