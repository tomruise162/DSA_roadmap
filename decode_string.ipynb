{
 "cells": [
  {
   "cell_type": "code",
   "execution_count": 2,
   "metadata": {},
   "outputs": [],
   "source": [
    "class Solution(object):\n",
    "    def decodeString(self, s):\n",
    "        \"\"\"\n",
    "        :type s: str\n",
    "        :rtype: str\n",
    "        \"\"\"\n",
    "        stack = []\n",
    "        num = 0\n",
    "        container = ''\n",
    "        for i in s:\n",
    "            #Phòng trường hợp số có nhiều hơn 1 chữ số\n",
    "            if i.isdigit():\n",
    "                num = 10*num + int(i)\n",
    "            #Bắt đầu chuỗi, append tuple trước đó vào stack với dạng (temp, nums)\n",
    "            #temp là biến chứa chuỗi tạm thời do container đẩy cho nó, có ý nghĩa là chuỗi bên ngoài ngoặc.\n",
    "            #nums là biến chứa số để nhân với chuỗi phía sau nó, nằm trong ngoặc.\n",
    "            #container đóng vai trò là biến trung gian để tương tác giữa s và biến chứa temp trong stack\n",
    "            elif i == '[':\n",
    "                stack.append((container, num))\n",
    "                #append được một tupple thì reset lại num và container để xử lý tiếp\n",
    "                num = 0\n",
    "                container = ''\n",
    "            #Khi kết thúc một chuỗi, đẩy tuple gần nhất ra, temp khi này là chuỗi ngay phía ngoài ngoặc,\n",
    "            #còn container là chuỗi hiện tại khi không còn chuỗi để xét nữa.\n",
    "            #Ta nhân số ngoài ngoặc (nums) với container, sau đó cộng với temp để được một chuỗi hoàn chỉnh\n",
    "            #lặp lại cho tới khi hết các ngoặc\n",
    "            elif i == ']':\n",
    "                temp, nums = stack.pop()\n",
    "                container = temp + container*nums\n",
    "            else:\n",
    "                container += i\n",
    "        return container"
   ]
  },
  {
   "cell_type": "code",
   "execution_count": 20,
   "metadata": {},
   "outputs": [
    {
     "data": {
      "text/plain": [
       "'acdcdacdcdacdcd'"
      ]
     },
     "execution_count": 20,
     "metadata": {},
     "output_type": "execute_result"
    }
   ],
   "source": [
    "s = \"3[2a[cd]]\"\n",
    "solution = Solution()\n",
    "solution.decodeString(s)"
   ]
  },
  {
   "cell_type": "code",
   "execution_count": 12,
   "metadata": {},
   "outputs": [
    {
     "data": {
      "text/plain": [
       "'abcabccdcdcdef'"
      ]
     },
     "execution_count": 12,
     "metadata": {},
     "output_type": "execute_result"
    }
   ],
   "source": [
    "s = \"2[abc]3[cd]ef\"\n",
    "solution = Solution()\n",
    "solution.decodeString(s)"
   ]
  },
  {
   "cell_type": "code",
   "execution_count": null,
   "metadata": {},
   "outputs": [],
   "source": []
  }
 ],
 "metadata": {
  "kernelspec": {
   "display_name": "kurama",
   "language": "python",
   "name": "python3"
  },
  "language_info": {
   "codemirror_mode": {
    "name": "ipython",
    "version": 3
   },
   "file_extension": ".py",
   "mimetype": "text/x-python",
   "name": "python",
   "nbconvert_exporter": "python",
   "pygments_lexer": "ipython3",
   "version": "3.10.13"
  }
 },
 "nbformat": 4,
 "nbformat_minor": 2
}
