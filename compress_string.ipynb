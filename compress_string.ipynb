{
 "cells": [
  {
   "cell_type": "code",
   "execution_count": 7,
   "metadata": {},
   "outputs": [],
   "source": [
    "class Solution(object):\n",
    "    def compress(self, chars):\n",
    "        \"\"\"\n",
    "        :type chars: List[str]\n",
    "        :rtype: int\n",
    "        \"\"\"\n",
    "        #ans la index cua str dap an\n",
    "        #i la bien de duyet so tu\n",
    "        ans = 0\n",
    "        i = 0\n",
    "\n",
    "        while i < len(chars):\n",
    "            #letter la bien de gan tu\n",
    "            #count la bien de dem so tu dac trung\n",
    "            letter = chars[i]\n",
    "            count = 0\n",
    "            while i < len(chars) and chars[i] == letter:\n",
    "                count += 1\n",
    "                i += 1\n",
    "            chars[ans] = letter\n",
    "            ans += 1\n",
    "            if count > 1:\n",
    "                #str(count) dung de duyet qua tung ki tu trong count duoi dang string\n",
    "                for c in str(count):\n",
    "                    chars[ans] = c\n",
    "                    ans += 1\n",
    "\n",
    "        return ans, chars"
   ]
  },
  {
   "cell_type": "code",
   "execution_count": 8,
   "metadata": {},
   "outputs": [
    {
     "data": {
      "text/plain": [
       "(5,\n",
       " ['a', '1', '2', 'b', '3', 'a', 'a', 'a', 'a', 'a', 'a', 'a', 'b', 'b', 'b'])"
      ]
     },
     "execution_count": 8,
     "metadata": {},
     "output_type": "execute_result"
    }
   ],
   "source": [
    "solution = Solution()\n",
    "chars = [\"a\", \"a\", \"a\", \"a\", \"a\", \"a\", \"a\", \"a\", \"a\", \"a\", \"a\", \"a\", \"b\", \"b\", \"b\"]\n",
    "solution.compress(chars)"
   ]
  },
  {
   "cell_type": "code",
   "execution_count": null,
   "metadata": {},
   "outputs": [],
   "source": []
  }
 ],
 "metadata": {
  "kernelspec": {
   "display_name": "Python 3",
   "language": "python",
   "name": "python3"
  },
  "language_info": {
   "codemirror_mode": {
    "name": "ipython",
    "version": 3
   },
   "file_extension": ".py",
   "mimetype": "text/x-python",
   "name": "python",
   "nbconvert_exporter": "python",
   "pygments_lexer": "ipython3",
   "version": "3.11.5"
  }
 },
 "nbformat": 4,
 "nbformat_minor": 2
}
