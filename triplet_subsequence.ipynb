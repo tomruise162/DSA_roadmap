{
 "cells": [
  {
   "cell_type": "code",
   "execution_count": 53,
   "metadata": {},
   "outputs": [],
   "source": [
    "# class Solution(object):\n",
    "#     def increasingTriplet(self, nums):\n",
    "#         \"\"\"\n",
    "#         :type nums: List[int]\n",
    "#         :rtype: bool\n",
    "#         \"\"\"\n",
    "#         first_min = nums[0]\n",
    "#         second_min = float('inf')\n",
    "#         third_min = float('inf')\n",
    "#         count = 0\n",
    "#         for i in range(0, len(nums)):\n",
    "#             count += 1\n",
    "#             if nums[i] <= first_min and (len(nums) - count) >= 4:\n",
    "#                 first_min = nums[i]\n",
    "#             if second_min == 0 and nums[i] > first_min:\n",
    "#                 second_min = nums[i]\n",
    "#             if nums[i] <= second_min and nums[i] > first_min:\n",
    "#                 second_min = nums[i]\n",
    "#             if nums[i] > second_min:\n",
    "#                 third_min = nums[i]\n",
    "#         return first_min < second_min < third_min "
   ]
  },
  {
   "cell_type": "code",
   "execution_count": 58,
   "metadata": {},
   "outputs": [],
   "source": [
    "class Solution(object):\n",
    "    def increasingTriplet(self, nums):\n",
    "        \"\"\"\n",
    "        :type nums: List[int]\n",
    "        :rtype: bool\n",
    "        \"\"\"\n",
    "        first_min = float('inf')\n",
    "        second_min = float('inf')\n",
    "        \n",
    "        for num in nums:\n",
    "            if num <= first_min:       # Tìm phần tử nhỏ nhất\n",
    "                first_min = num\n",
    "            elif num <= second_min:    # Tìm phần tử lớn hơn first_min nhưng nhỏ hơn second_min\n",
    "                second_min = num\n",
    "            else:\n",
    "                # Nếu tìm được phần tử lớn hơn cả first_min và second_min, ta có bộ ba tăng dần\n",
    "                return True\n",
    "                \n",
    "        return False\n"
   ]
  },
  {
   "cell_type": "code",
   "execution_count": 59,
   "metadata": {},
   "outputs": [
    {
     "data": {
      "text/plain": [
       "True"
      ]
     },
     "execution_count": 59,
     "metadata": {},
     "output_type": "execute_result"
    }
   ],
   "source": [
    "solution = Solution()\n",
    "nums = [1,0,-1,0,0,0,10000]\n",
    "solution.increasingTriplet(nums)"
   ]
  },
  {
   "cell_type": "code",
   "execution_count": 60,
   "metadata": {},
   "outputs": [
    {
     "data": {
      "text/plain": [
       "True"
      ]
     },
     "execution_count": 60,
     "metadata": {},
     "output_type": "execute_result"
    }
   ],
   "source": [
    "solution = Solution()\n",
    "nums = [1,2,3,4,5]\n",
    "solution.increasingTriplet(nums)"
   ]
  },
  {
   "cell_type": "code",
   "execution_count": 61,
   "metadata": {},
   "outputs": [
    {
     "data": {
      "text/plain": [
       "True"
      ]
     },
     "execution_count": 61,
     "metadata": {},
     "output_type": "execute_result"
    }
   ],
   "source": [
    "solution = Solution()\n",
    "nums = [4,5,2147483647,1,2]\n",
    "solution.increasingTriplet(nums)"
   ]
  },
  {
   "cell_type": "code",
   "execution_count": 62,
   "metadata": {},
   "outputs": [
    {
     "data": {
      "text/plain": [
       "False"
      ]
     },
     "execution_count": 62,
     "metadata": {},
     "output_type": "execute_result"
    }
   ],
   "source": [
    "solution = Solution()\n",
    "nums = [2,1,5,0,3]\n",
    "solution.increasingTriplet(nums)"
   ]
  },
  {
   "cell_type": "code",
   "execution_count": null,
   "metadata": {},
   "outputs": [],
   "source": []
  }
 ],
 "metadata": {
  "kernelspec": {
   "display_name": "Python 3",
   "language": "python",
   "name": "python3"
  },
  "language_info": {
   "codemirror_mode": {
    "name": "ipython",
    "version": 3
   },
   "file_extension": ".py",
   "mimetype": "text/x-python",
   "name": "python",
   "nbconvert_exporter": "python",
   "pygments_lexer": "ipython3",
   "version": "3.11.5"
  }
 },
 "nbformat": 4,
 "nbformat_minor": 2
}
