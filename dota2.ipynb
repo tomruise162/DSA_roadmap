{
 "cells": [
  {
   "cell_type": "code",
   "execution_count": 13,
   "metadata": {},
   "outputs": [],
   "source": [
    "class Solution(object):\n",
    "    def predictPartyVictory(self, senate):\n",
    "        \"\"\"\n",
    "        :type senate: str\n",
    "        :rtype: str\n",
    "        \"\"\"\n",
    "        queue_R = []\n",
    "        queue_D = []\n",
    "        n = len(senate)\n",
    "        \n",
    "        for i in range(len(senate)):\n",
    "            if senate[i] == 'R':\n",
    "                queue_R.append(i)\n",
    "            else:\n",
    "                queue_D.append(i)\n",
    "        while queue_R and queue_D:\n",
    "            r = queue_R.pop(0)\n",
    "            d = queue_D.pop(0)\n",
    "            if r > d:\n",
    "                queue_D.append(d+n)         \n",
    "            else:\n",
    "                queue_R.append(r+n)\n",
    "        return \"Radiant\" if queue_R else \"Dire\"\n",
    "            \n",
    "        "
   ]
  },
  {
   "cell_type": "code",
   "execution_count": null,
   "metadata": {},
   "outputs": [],
   "source": [
    "from collections import deque\n",
    "class Solution:\n",
    "    def predictPartyVictory(self, senate):\n",
    "        queue_R = deque()\n",
    "        queue_D = deque()\n",
    "        n = len(senate)\n",
    "\n",
    "        # Bước 1: Lưu vị trí của các thượng nghị sĩ vào hàng đợi\n",
    "        for i, s in enumerate(senate):\n",
    "            if s == 'R':\n",
    "                queue_R.append(i)\n",
    "            else:\n",
    "                queue_D.append(i)\n",
    "\n",
    "        # Bước 2: Xử lý từng vòng bỏ phiếu\n",
    "        while queue_R and queue_D:\n",
    "            r = queue_R.popleft()  # Lấy thượng nghị sĩ Radiant đầu tiên\n",
    "            d = queue_D.popleft()  # Lấy thượng nghị sĩ Dire đầu tiên\n",
    "            \n",
    "            # Ai có vị trí nhỏ hơn sẽ được bỏ phiếu trước và cấm người còn lại\n",
    "            if r < d:\n",
    "                queue_R.append(r + n)  # Cho R quay lại vòng tiếp theo\n",
    "            else:\n",
    "                queue_D.append(d + n)  # Cho D quay lại vòng tiếp theo\n",
    "\n",
    "        # Bước 3: Kiểm tra ai còn lại trong hàng đợi\n",
    "        return \"Radiant\" if queue_R else \"Dire\"\n"
   ]
  },
  {
   "cell_type": "code",
   "execution_count": 14,
   "metadata": {},
   "outputs": [
    {
     "data": {
      "text/plain": [
       "'Dire'"
      ]
     },
     "execution_count": 14,
     "metadata": {},
     "output_type": "execute_result"
    }
   ],
   "source": [
    "senate = \"RDD\"\n",
    "solution = Solution()\n",
    "solution.predictPartyVictory(senate)"
   ]
  },
  {
   "cell_type": "code",
   "execution_count": 12,
   "metadata": {},
   "outputs": [
    {
     "name": "stdout",
     "output_type": "stream",
     "text": [
      "enumerate(senate)\n"
     ]
    }
   ],
   "source": [
    "senate = \"RDDR\"\n",
    "print(enumerate(senate))"
   ]
  }
 ],
 "metadata": {
  "kernelspec": {
   "display_name": "kurama",
   "language": "python",
   "name": "python3"
  },
  "language_info": {
   "codemirror_mode": {
    "name": "ipython",
    "version": 3
   },
   "file_extension": ".py",
   "mimetype": "text/x-python",
   "name": "python",
   "nbconvert_exporter": "python",
   "pygments_lexer": "ipython3",
   "version": "3.10.13"
  }
 },
 "nbformat": 4,
 "nbformat_minor": 2
}
