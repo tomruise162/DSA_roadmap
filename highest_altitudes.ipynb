{
 "cells": [
  {
   "cell_type": "code",
   "execution_count": 28,
   "metadata": {},
   "outputs": [],
   "source": [
    "class Solution(object):\n",
    "    def largestAltitude(self, gain):\n",
    "        \"\"\"\n",
    "        :type gain: List[int]\n",
    "        :rtype: int\n",
    "        lay sau - truoc \n",
    "        \"\"\"\n",
    "        #list[0:0] = [] (empty list)\n",
    "        #sum([]) = 0\n",
    "        #list[0:2] --> chi bao gom phan tu o index 0, 1. index 2 bi slice\n",
    "        ans = []\n",
    "        total = 0\n",
    "        for i in range(len(gain)):\n",
    "                total = sum(gain[:i])\n",
    "                ans.append(total)\n",
    "        ans.append(sum(gain))\n",
    "        return max(ans)\n"
   ]
  },
  {
   "cell_type": "code",
   "execution_count": 31,
   "metadata": {},
   "outputs": [
    {
     "data": {
      "text/plain": [
       "1"
      ]
     },
     "execution_count": 31,
     "metadata": {},
     "output_type": "execute_result"
    }
   ],
   "source": [
    "solution = Solution()\n",
    "gains = [-5,1,5,0,-7]\n",
    "solution.largestAltitude(gains)"
   ]
  },
  {
   "cell_type": "code",
   "execution_count": null,
   "metadata": {},
   "outputs": [],
   "source": []
  }
 ],
 "metadata": {
  "kernelspec": {
   "display_name": "naruto",
   "language": "python",
   "name": "python3"
  },
  "language_info": {
   "codemirror_mode": {
    "name": "ipython",
    "version": 3
   },
   "file_extension": ".py",
   "mimetype": "text/x-python",
   "name": "python",
   "nbconvert_exporter": "python",
   "pygments_lexer": "ipython3",
   "version": "3.10.13"
  }
 },
 "nbformat": 4,
 "nbformat_minor": 2
}
