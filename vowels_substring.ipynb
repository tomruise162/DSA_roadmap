{
 "cells": [
  {
   "cell_type": "code",
   "execution_count": 23,
   "metadata": {},
   "outputs": [],
   "source": [
    "#Time limit exceeded\n",
    "class Solution(object):\n",
    "    def maxVowels(self, s, k):\n",
    "        \"\"\"\n",
    "        :type s: str\n",
    "        :type k: int\n",
    "        :rtype: int\n",
    "        \"\"\"\n",
    "        max_vowels_count = 0\n",
    "        vowels_list = ['a','i','e','u','o']\n",
    "        for i in range(k - 1, len(s) + 1):\n",
    "            count = 0\n",
    "            current_vowels = s[i-k:i]\n",
    "            for j in current_vowels:\n",
    "                if j.lower() in vowels_list: \n",
    "                    count += 1\n",
    "            max_vowels_count = max(count, max_vowels_count)\n",
    "        return max_vowels_count\n",
    "\n",
    "    "
   ]
  },
  {
   "cell_type": "code",
   "execution_count": 27,
   "metadata": {},
   "outputs": [],
   "source": [
    "class Solution(object):\n",
    "    def maxVowels(self, s, k):\n",
    "        \"\"\"\n",
    "        :type s: str\n",
    "        :type k: int\n",
    "        :rtype: int\n",
    "        \"\"\"\n",
    "        vowels = {'a', 'e', 'i', 'o', 'u'}\n",
    "        vowel_count = 0\n",
    "        max_vowels = 0\n",
    "\n",
    "        # Tính số vowels trong cửa sổ đầu tiên\n",
    "        for i in range(k):\n",
    "            if s[i] in vowels:\n",
    "                vowel_count += 1\n",
    "        max_vowels = vowel_count\n",
    "\n",
    "        # Trượt cửa sổ qua chuỗi\n",
    "        for i in range(k, len(s)):\n",
    "            # Check kí tự mới\n",
    "            if s[i] in vowels:\n",
    "                vowel_count += 1\n",
    "            # Xử lí kí tự cũ\n",
    "            if s[i - k] in vowels:\n",
    "                vowel_count -= 1\n",
    "            # Cập nhật kết quả\n",
    "            max_vowels = max(max_vowels, vowel_count)\n",
    "\n",
    "        return max_vowels\n"
   ]
  },
  {
   "cell_type": "code",
   "execution_count": 28,
   "metadata": {},
   "outputs": [
    {
     "data": {
      "text/plain": [
       "4"
      ]
     },
     "execution_count": 28,
     "metadata": {},
     "output_type": "execute_result"
    }
   ],
   "source": [
    "solution = Solution()\n",
    "s = \"weallloveyou\"\n",
    "k = 7\n",
    "solution.maxVowels(s, k)"
   ]
  },
  {
   "cell_type": "code",
   "execution_count": 32,
   "metadata": {},
   "outputs": [
    {
     "data": {
      "text/plain": [
       "3"
      ]
     },
     "execution_count": 32,
     "metadata": {},
     "output_type": "execute_result"
    }
   ],
   "source": [
    "solution = Solution()\n",
    "s = \"abciiidef\"\n",
    "k = 3\n",
    "solution.maxVowels(s, k)"
   ]
  },
  {
   "cell_type": "code",
   "execution_count": 30,
   "metadata": {},
   "outputs": [
    {
     "data": {
      "text/plain": [
       "12"
      ]
     },
     "execution_count": 30,
     "metadata": {},
     "output_type": "execute_result"
    }
   ],
   "source": [
    "s = \"weallloveyou\"\n",
    "len(s)"
   ]
  },
  {
   "cell_type": "code",
   "execution_count": null,
   "metadata": {},
   "outputs": [],
   "source": []
  }
 ],
 "metadata": {
  "kernelspec": {
   "display_name": "naruto",
   "language": "python",
   "name": "python3"
  },
  "language_info": {
   "codemirror_mode": {
    "name": "ipython",
    "version": 3
   },
   "file_extension": ".py",
   "mimetype": "text/x-python",
   "name": "python",
   "nbconvert_exporter": "python",
   "pygments_lexer": "ipython3",
   "version": "3.10.13"
  }
 },
 "nbformat": 4,
 "nbformat_minor": 2
}
